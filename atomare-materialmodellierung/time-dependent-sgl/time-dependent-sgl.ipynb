{
 "cells": [
  {
   "cell_type": "markdown",
   "metadata": {},
   "source": [
    "# Numerisches Lösen der eindimensionalen zeitabhängigen Schrödingergleichung mittels Python"
   ]
  },
  {
   "cell_type": "markdown",
   "metadata": {},
   "source": [
    "In diesem Beispiel wird [`pySchrodinger`](https://github.com/jakevdp/pySchrodinger) verwendet, um die zeitabhängige Lösung der eindimensionalen Schrödingergleichung bei stationärem externen Potential zu diskutieren. Im weiteren Verlauf werden dann verschiedene Potentialparameter und Ursprungswellenformen diskutiert. \n",
    "\n",
    "Die Schrödingergleichung ist das quantenmechanische Gegenstück zur klassischen Formulierung der Gesamtenergie eines Systems, in dem sich der (hier eindimensionale) Ort $x(t)$ eines Teilchens wie eine Welle $\\Psi(x, t)$ verhält. Es sei darauf hingewiesen, dass die Schrödingergleichung ein Postulat ist, das sich nicht direkt aus anderen physikalischen Gesetzen ableiten lässt. Formal kann die Schrödingergleichung jedoch aus der (nichtrelativistischen) Hamilton-Funktion für einen Massenpunkt\n",
    "\n",
    "$$E={\\frac {{p}^{2}}{2m}}+V({x},t)$$\n",
    "\n",
    "hergeleitet werden, indem die klassischen Größen Energie $E$, Impuls $p$ und Ort $r$ durch die entsprechenden quantenmechanischen Operatoren gemäß dem Korrespondenzprinzip ersetzt werden: \n",
    "\n",
    "$$\\begin{matrix}E&\\rightarrow &{\\hat E}&=&{\\mathrm {i}}\\hbar {\\frac {\\partial }{\\partial t}}\\\\{{p}}&\\rightarrow &{ {{\\hat p}}}&=&-{\\mathrm {i}}\\hbar \\frac{\\partial}{\\partial x} \\\\{{x}}&\\rightarrow &{{{\\hat x}}}&=&{{x}}\\end{matrix}$$\n",
    "\n",
    "Auf diese Weise wird im Prinzip die Hamiltonfunktion in einen Hamiltonoperator $\\mathcal H(x,\\hat p,t) = -\\frac{\\hbar^2}{2m} \\frac{\\partial^2}{\\partial x^2}+V({x},t)$ umgewandelt, der dann auf die unbekannte Wellenfunktion $\\Psi(x,t)$ angewendet werden kann. Die ursprüngliche Hamilton-Funktion lautet nun in der quantenmechanischen Schreibweise:\n",
    "\n",
    "$$ {\\mathrm {i}}\\hbar {\\frac {\\partial \\Psi(x,t)}{\\partial t}} = \\mathcal{H}\\Psi(x,t) = -\\frac{\\hbar^2}{2m} \\frac{\\partial^2 \\Psi(x,t)}{\\partial x^2}+V({x},t)\\Psi(x,t)$$\n",
    "\n",
    "Wenn der Hamilton-Operator zeitunabhängig ist, also $\\frac{\\partial \\mathcal H}{\\partial t} = 0$, was in der Regel der Fall ist, wenn das Potential \"stationär\" ist, d.h. $V \\equiv V(x)$, dann kann die zeitabhängige Schrödingergleichung mit einem Produktansatz $\\Psi(x,t) = \\psi(x)\\phi(t)$ gelöst werden. Einsetzen von $\\Psi(x,t) = \\psi(x)\\phi(t)$ in die obige Gleichung führt somit zu\n",
    "\n",
    "$$\\mathrm i\\hbar \\frac{1}{\\phi(t)} \\frac{\\partial\\phi(t)}{\\partial t}=\\frac{1}{\\psi(x)}\\mathcal{H}\\psi(x)$$\n",
    "\n",
    "Dadurch werden die Variablen voneinander getrennt. Die Gleichung kann für beliebige $x$ und $t$ nur erfüllt werden, wenn beide Seiten gleich einer Konstanten sind; diese Konstante heißt (in weiser Voraussicht) $E$. Daher gilt für die linke und rechte Seite der Gleichung \n",
    "\n",
    "$$\\mathrm i\\hbar \\frac{d\\phi(t)}{dt}=E\\phi(t); \\quad E\\psi(x) = \\mathcal{H}\\psi(x) $$\n",
    "\n",
    "Für den zeitabhängigen Teil handelt sich hier um eine Differentialgleichung erster Ordnung, deren Lösung nach dem allgemeinen Ansatz $\\phi(t) = A \\exp(Bt)$ gefunden werden kann. Durch Einsetzen von $\\phi(t) = A \\exp(Bt)$ ergibt sich $B=\\frac{E}{\\mathrm i\\hbar}=-\\frac{\\mathrm i E}{\\hbar}$. Aus der Forderung dass unser Teilchen **zur Zeit** $t$ irgendwo in $x$ zu finden sein muss erhalten wir $A$: \n",
    "\n",
    "$$1 \\equiv \\int_{-\\infty}^\\infty \\Psi^*(x,t)\\Psi(x,t) \\mathrm{d}x = \\int_{-\\infty}^\\infty\\psi^*(x)\\phi^*(t)\\psi(x)\\phi(t)\\mathrm{d}x = A \\int_{-\\infty}^\\infty\\psi^*(x)\\psi(x)\\mathrm{d}x = A$$ \n",
    "\n",
    "D.h., wir können die Lösung der zeitabhängigen Schrödingergleichung leicht erhalten, indem wir die Lösung für $\\psi(x)$ aus der zeitunabhängigen Schrödingergleichung nehmen $\\mathcal{H}\\psi(x) = E\\psi(x)$ und einfach mit $\\phi(t)$ multiplizieren! \n",
    "\n",
    "Die stationäre Schrödingergleichung ist ein Eigenwertproblem, bei dem wir nach einer Funktion $\\psi(x)$ suchen, die, wenn der Hamiltonoperator auf sie angewendet wird, wieder sich selbst multipliziert mit einem Skalar ergibt. Oft ist jedoch die Suche nach einer Funktion für nichttriviale Potentiale $V(x)$ analytisch nicht mehr möglich, weshalb man auf numerische Methoden zurückgreifen muss. Als Beispiel aus der Elektronenstrukturberechnung sei das Beispiel eines Mehrelektronensystems genannt, bei dem das Potential $V \\equiv V(\\{\\mathbf{r}^N \\})$ ist und $\\{\\mathbf{r}^N \\}$ alle dreidimensionalen Koordinaten jedes der $N$ Elektronen darstellt, die sich alle gegenseitig über die Coulomb-Wechselwirkung beeinflussen.\n"
   ]
  },
  {
   "cell_type": "markdown",
   "metadata": {},
   "source": [
    "Im Folgenden werden wir die zeitliche Entwicklung der Schrödingergleichung für einige einfache Fälle veranschaulichen. Obwohl es für die meisten der folgenden Fälle eine analytische Lösung gibt, ist es lehrreich, die numerische Lösung mit den analytischen Lösungen zu vergleichen. Zu diesem Zweck laden wir zunächst die dafür benötigten Bibliotheken. "
   ]
  },
  {
   "cell_type": "code",
   "execution_count": 6,
   "metadata": {},
   "outputs": [],
   "source": [
    "import matplotlib.pyplot as plt\n",
    "from matplotlib import animation\n",
    "import numpy as np\n",
    "from schrodinger import Schrodinger"
   ]
  },
  {
   "cell_type": "markdown",
   "metadata": {},
   "source": [
    "Wir laden hier neben den Standardbibliotheken auch `pySchrodinger`, das uns hilft, die Schrödinger-Gleichung zu animieren und numerisch zu lösen. Bevor wir loslegen können, müssen wir einige Hilfsfunktionen definieren. Zunächst benötigen wir eine Funktion, die unser Wellenpaket im Ortsraum ($x$) und Impulsraum ($k$) darstellt. Setzen Sie die Ausdrücke für die Normalisierung und den Exponentialterm so ein, dass sich ein Gaußsches Wellenpaket der Breite $a$, zentriert bei $x_0$, mit dem Impuls $k_0$ ergibt."
   ]
  },
  {
   "cell_type": "code",
   "execution_count": 7,
   "metadata": {},
   "outputs": [],
   "source": [
    "######################################################################\n",
    "# Hilfsfunktionen für Gaußsche Wellenpakete\n",
    "def gauss_x(x, a, x0, k0):\n",
    "    \"\"\"\n",
    "    ein gaußförmiges Wellenpaket der Breite a, zentriert bei x0, mit dem Impuls k0\n",
    "    \"\"\"\n",
    "    # norm = ...     # modify\n",
    "    # exponent = ... # modify\n",
    "    norm = (a * np.sqrt(np.pi)) ** (-0.5)                      \n",
    "    exponent = -0.5 * ((x - x0) * 1. / a) ** 2 + 1j * x * k0   \n",
    "    return norm * np.exp(exponent)\n",
    "\n",
    "\n",
    "def gauss_k(k, a, x0, k0):\n",
    "    \"\"\"\n",
    "    analytische Fourier-Transformation von gauss_x(x), oben\n",
    "    \"\"\"\n",
    "    # norm = ...     # modify\n",
    "    # exponent = ... # modify\n",
    "    norm = (a / np.sqrt(np.pi)) ** 0.5                         \n",
    "    exponent = -0.5 * (a * (k - k0)) ** 2 - 1j * (k - k0) * x0\n",
    "    return norm * np.exp(exponent)"
   ]
  },
  {
   "cell_type": "markdown",
   "metadata": {},
   "source": [
    "Wir brauchen auch eine Funktion, die eine rechteckige Barriere für uns erstellt:"
   ]
  },
  {
   "cell_type": "code",
   "execution_count": 11,
   "metadata": {},
   "outputs": [],
   "source": [
    "######################################################################\n",
    "# Hilfsfunktionen für Barriere\n",
    "def theta(x):\n",
    "    \"\"\"\n",
    "    theta function :\n",
    "      returns 0 if x<=0, and 1 if x>0\n",
    "    \"\"\"\n",
    "    x = np.asarray(x)\n",
    "    y = np.zeros(x.shape)\n",
    "    y[x > 0] = 1.0\n",
    "    return y\n",
    "\n",
    "def square_barrier(x, width, height):\n",
    "    return height * (theta(x) - theta(x - width))"
   ]
  },
  {
   "cell_type": "markdown",
   "metadata": {},
   "source": [
    "Als Nächstes müssen wir ein paar Parameter für unsere \"Simulation\" festlegen."
   ]
  },
  {
   "cell_type": "code",
   "execution_count": 5,
   "metadata": {},
   "outputs": [
    {
     "ename": "NameError",
     "evalue": "name 'square_barrier' is not defined",
     "output_type": "error",
     "traceback": [
      "\u001b[0;31m---------------------------------------------------------------------------\u001b[0m",
      "\u001b[0;31mNameError\u001b[0m                                 Traceback (most recent call last)",
      "\u001b[0;32m<ipython-input-5-264283d4f27b>\u001b[0m in \u001b[0;36m<module>\u001b[0;34m\u001b[0m\n\u001b[1;32m     19\u001b[0m \u001b[0ma\u001b[0m \u001b[0;34m=\u001b[0m \u001b[0;36m3\u001b[0m \u001b[0;34m*\u001b[0m \u001b[0mL\u001b[0m\u001b[0;34m\u001b[0m\u001b[0;34m\u001b[0m\u001b[0m\n\u001b[1;32m     20\u001b[0m \u001b[0mx0\u001b[0m \u001b[0;34m=\u001b[0m \u001b[0;34m-\u001b[0m\u001b[0;36m60\u001b[0m \u001b[0;34m*\u001b[0m \u001b[0mL\u001b[0m\u001b[0;34m\u001b[0m\u001b[0;34m\u001b[0m\u001b[0m\n\u001b[0;32m---> 21\u001b[0;31m \u001b[0mV_x\u001b[0m \u001b[0;34m=\u001b[0m \u001b[0msquare_barrier\u001b[0m\u001b[0;34m(\u001b[0m\u001b[0mx\u001b[0m\u001b[0;34m,\u001b[0m \u001b[0ma\u001b[0m\u001b[0;34m,\u001b[0m \u001b[0mV0\u001b[0m\u001b[0;34m)\u001b[0m\u001b[0;34m\u001b[0m\u001b[0;34m\u001b[0m\u001b[0m\n\u001b[0m\u001b[1;32m     22\u001b[0m \u001b[0mV_x\u001b[0m\u001b[0;34m[\u001b[0m\u001b[0mx\u001b[0m \u001b[0;34m<\u001b[0m \u001b[0;34m-\u001b[0m\u001b[0;36m98\u001b[0m\u001b[0;34m]\u001b[0m \u001b[0;34m=\u001b[0m \u001b[0;36m1E6\u001b[0m\u001b[0;34m\u001b[0m\u001b[0;34m\u001b[0m\u001b[0m\n\u001b[1;32m     23\u001b[0m \u001b[0mV_x\u001b[0m\u001b[0;34m[\u001b[0m\u001b[0mx\u001b[0m \u001b[0;34m>\u001b[0m \u001b[0;36m98\u001b[0m\u001b[0;34m]\u001b[0m \u001b[0;34m=\u001b[0m \u001b[0;36m1E6\u001b[0m\u001b[0;34m\u001b[0m\u001b[0;34m\u001b[0m\u001b[0m\n",
      "\u001b[0;31mNameError\u001b[0m: name 'square_barrier' is not defined"
     ]
    }
   ],
   "source": [
    "# specify time steps and duration\n",
    "dt = 0.01\n",
    "N_steps = 50\n",
    "t_max = 120\n",
    "frames = int(t_max / float(N_steps * dt))\n",
    "\n",
    "# specify constants\n",
    "hbar = 1.0   # planck's constant\n",
    "m = 2.0      # particle mass\n",
    "\n",
    "# specify range in x coordinate\n",
    "N = 2 ** 11\n",
    "dx = 0.1\n",
    "x = dx * (np.arange(N) - 0.5 * N)\n",
    "\n",
    "# specify potential\n",
    "V0 = 1.5\n",
    "L = hbar / np.sqrt(2 * m * V0)\n",
    "a = 3 * L\n",
    "x0 = -60 * L\n",
    "V_x = square_barrier(x, a, V0)\n",
    "V_x[x < -98] = 1E6\n",
    "V_x[x > 98] = 1E6\n",
    "\n",
    "# specify initial momentum and quantities derived from it\n",
    "p0 = np.sqrt(2 * m * 0.2 * V0)\n",
    "dp2 = p0 * p0 * 1. / 80\n",
    "d = hbar / np.sqrt(2 * dp2)\n",
    "\n",
    "k0 = p0 / hbar\n",
    "v0 = p0 / m\n",
    "psi_x0 = gauss_x(x, d, x0, k0)"
   ]
  },
  {
   "cell_type": "markdown",
   "metadata": {},
   "source": [
    "## Aufgabe 1: Welche Einheiten wurden hier verwendet?  "
   ]
  },
  {
   "cell_type": "markdown",
   "metadata": {},
   "source": [
    "... (Lösung: atomare Einheiten) "
   ]
  },
  {
   "cell_type": "markdown",
   "metadata": {},
   "source": [
    "## Aufgabe 2: Was bedeutet eine Masse von 2 in diesem Fall? "
   ]
  },
  {
   "cell_type": "markdown",
   "metadata": {},
   "source": [
    "... (Lösung: Partikel ist doppelt so schwer wie ein Elektron) "
   ]
  },
  {
   "cell_type": "markdown",
   "metadata": {},
   "source": [
    "## Aufgabe 3: Wie wirken sich verschiedene Barrieren auf die Ausbreitung aus?"
   ]
  },
  {
   "cell_type": "markdown",
   "metadata": {},
   "source": [
    "### (a): Wie wurden unendlich hohe Barriere mit diesem Tool realisiert? Diskutieren sie den Unterschied zu einem endlichen Potential."
   ]
  },
  {
   "cell_type": "markdown",
   "metadata": {},
   "source": [
    "### (b): Wie lautet die Schrödingergleichung und deren Lösung für ein freies (d.h. $V(x,t)\\equiv0$) Teilchen? Lösen sie die Schrödingergleichung für ein freies Teilchen numerisch. Diskutieren sie periodische Randbedingungen."
   ]
  },
  {
   "cell_type": "markdown",
   "metadata": {},
   "source": [
    "## Aufgabe 2: Wie wirken sich andere Wellenformen auf die Ausbreitung aus? "
   ]
  },
  {
   "cell_type": "markdown",
   "metadata": {},
   "source": [
    "### (a): Eine Rechteckform?"
   ]
  },
  {
   "cell_type": "markdown",
   "metadata": {},
   "source": [
    "### (b): Kollision von zwei Wellenpaketen?"
   ]
  }
 ],
 "metadata": {
  "kernelspec": {
   "display_name": "Python 3",
   "language": "python",
   "name": "python3"
  },
  "language_info": {
   "codemirror_mode": {
    "name": "ipython",
    "version": 3
   },
   "file_extension": ".py",
   "mimetype": "text/x-python",
   "name": "python",
   "nbconvert_exporter": "python",
   "pygments_lexer": "ipython3",
   "version": "3.8.3"
  }
 },
 "nbformat": 4,
 "nbformat_minor": 4
}
