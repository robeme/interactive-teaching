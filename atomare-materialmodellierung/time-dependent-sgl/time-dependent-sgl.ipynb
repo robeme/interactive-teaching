{
 "cells": [
  {
   "cell_type": "markdown",
   "metadata": {},
   "source": [
    "# Numerisches Lösen der eindimensionalen zeitabhängigen Schrödingergleichung mittels Python"
   ]
  },
  {
   "cell_type": "markdown",
   "metadata": {},
   "source": [
    "In diesem Beispiel wird [`pySchrodinger`](https://github.com/jakevdp/pySchrodinger) verwendet, um die zeitabhängige Lösung der eindimensionalen Schrödingergleichung bei stationärem externen Potential zu diskutieren. Im weiteren Verlauf werden dann verschiedene Potentialparameter und Ursprungswellenformen diskutiert. \n",
    "\n",
    "Die Schrödingergleichung ist das quantenmechanische Gegenstück zur klassischen Formulierung der Gesamtenergie eines Systems, in dem sich der (hier eindimensionale) Ort $x(t)$ eines Teilchens wie eine Welle $\\Psi(x, t)$ verhält. Es sei darauf hingewiesen, dass die Schrödingergleichung ein Postulat ist, das sich nicht direkt aus anderen physikalischen Gesetzen ableiten lässt. Formal kann die Schrödingergleichung jedoch aus der (nichtrelativistischen) Hamilton-Funktion für einen Massenpunkt\n",
    "\n",
    "$$E={\\frac {{p}^{2}}{2m}}+V({x},t)$$\n",
    "\n",
    "hergeleitet werden, indem die klassischen Größen Energie $E$, Impuls $p$ und Ort $r$ durch die entsprechenden quantenmechanischen Operatoren gemäß dem Korrespondenzprinzip ersetzt werden: \n",
    "\n",
    "$$\\begin{matrix}E&\\rightarrow &{\\hat E}&=&{\\mathrm {i}}\\hbar {\\frac {\\partial }{\\partial t}}\\\\{{p}}&\\rightarrow &{ {{\\hat p}}}&=&-{\\mathrm {i}}\\hbar \\frac{\\partial}{\\partial x} \\\\{{x}}&\\rightarrow &{{{\\hat x}}}&=&{{x}}\\end{matrix}$$\n",
    "\n",
    "Auf diese Weise wird im Prinzip die Hamiltonfunktion in einen Hamiltonoperator $\\mathcal H(x,\\hat p,t) = -\\frac{\\hbar^2}{2m} \\frac{\\partial^2}{\\partial x^2}+V({x},t)$ umgewandelt, der dann auf die unbekannte Wellenfunktion $\\Psi(x,t)$ angewendet werden kann. Die ursprüngliche Hamilton-Funktion lautet nun in der quantenmechanischen Schreibweise:\n",
    "\n",
    "$$ {\\mathrm {i}}\\hbar {\\frac {\\partial \\Psi(x,t)}{\\partial t}} = \\mathcal{H}\\Psi(x,t) = -\\frac{\\hbar^2}{2m} \\frac{\\partial^2 \\Psi(x,t)}{\\partial x^2}+V({x},t)\\Psi(x,t)$$\n",
    "\n",
    "Wenn der Hamilton-Operator zeitunabhängig ist, also $\\frac{\\partial \\mathcal H}{\\partial t} = 0$, was in der Regel der Fall ist, wenn das Potential \"stationär\" ist, d.h. $V \\equiv V(x)$, dann kann die zeitabhängige Schrödingergleichung mit einem Produktansatz $\\Psi(x,t) = \\psi(x)\\phi(t)$ gelöst werden. Einsetzen von $\\Psi(x,t) = \\psi(x)\\phi(t)$ in die obige Gleichung führt somit zu\n",
    "\n",
    "$$\\mathrm i\\hbar \\frac{1}{\\phi(t)} \\frac{\\partial\\phi(t)}{\\partial t}=\\frac{1}{\\psi(x)}\\mathcal{H}\\psi(x)$$\n",
    "\n",
    "Dadurch werden die Variablen voneinander getrennt. Die Gleichung kann für beliebige $x$ und $t$ nur erfüllt werden, wenn beide Seiten gleich einer Konstanten sind; diese Konstante heißt (in weiser Voraussicht) $E$. Daher gilt für die linke und rechte Seite der Gleichung \n",
    "\n",
    "$$\\mathrm i\\hbar \\frac{d\\phi(t)}{dt}=E\\phi(t); \\quad E\\psi(x) = \\mathcal{H}\\psi(x) $$\n",
    "\n",
    "Für den zeitabhängigen Teil handelt sich hier um eine Differentialgleichung erster Ordnung, deren Lösung nach dem allgemeinen Ansatz $\\phi(t) = A \\exp(Bt)$ gefunden werden kann. Durch Einsetzen von $\\phi(t) = A \\exp(Bt)$ in die linke Gleichung ergibt sich $B=\\frac{E}{\\mathrm i\\hbar}=-\\frac{\\mathrm i E}{\\hbar}$. Aus der Forderung dass unser Teilchen **zur Zeit** $t$ irgendwo in $x$ zu finden sein muss erhalten wir $A$: \n",
    "\n",
    "$$1 \\equiv \\int_{-\\infty}^\\infty \\Psi^*(x,t)\\Psi(x,t) \\mathrm{d}x = \\int_{-\\infty}^\\infty\\psi^*(x)\\phi^*(t)\\psi(x)\\phi(t)\\mathrm{d}x = A^2 \\int_{-\\infty}^\\infty\\psi^*(x)\\psi(x)\\mathrm{d}x \\Rightarrow A = 1$$ \n",
    "\n",
    "D.h., wir können die Lösung der zeitabhängigen Schrödingergleichung leicht erhalten, indem wir die Lösung für $\\psi(x)$ aus der zeitunabhängigen Schrödingergleichung $\\mathcal{H}\\psi(x) = E\\psi(x)$ nehmen und einfach mit \n",
    "\n",
    "\n",
    "$$\\phi(t)=\\exp(-\\mathrm{i}\\frac{E}{\\hbar}t)$$ \n",
    "\n",
    "multiplizieren! \n",
    "\n",
    "Die stationäre Schrödingergleichung ist ein Eigenwertproblem, bei dem wir nach einer Funktion $\\psi(x)$ suchen, die, wenn der Hamiltonoperator auf sie angewendet wird, wieder sich selbst multipliziert mit einem Skalar ergibt. Oft ist jedoch die Suche nach einer Funktion $\\psi(x)$ für nichttriviale Potentiale $V(x)$ analytisch nicht mehr möglich, weshalb man auf numerische Methoden zurückgreifen muss. Als Beispiel aus der Elektronenstrukturberechnung sei das Beispiel eines Mehrelektronensystems genannt, bei dem das Potential $V \\equiv V(\\{\\mathbf{r}^N \\})$ ist und $\\{\\mathbf{r}^N \\}$ alle dreidimensionalen Koordinaten jedes der $N$ Elektronen darstellt, die sich alle gegenseitig über die Coulomb-Wechselwirkung beeinflussen.\n"
   ]
  },
  {
   "cell_type": "markdown",
   "metadata": {},
   "source": [
    "Im Folgenden werden wir die zeitliche Entwicklung der Schrödingergleichung für einige einfache Fälle veranschaulichen. Obwohl es für die meisten der folgenden Fälle eine analytische Lösung gibt, ist es lehrreich, die numerische Lösung mit den analytischen Lösungen zu vergleichen. Zu diesem Zweck laden wir zunächst die dafür benötigten Bibliotheken. "
   ]
  },
  {
   "cell_type": "code",
   "execution_count": null,
   "metadata": {},
   "outputs": [],
   "source": [
    "import matplotlib.pyplot as plt\n",
    "from matplotlib import animation\n",
    "import ipywidgets as widgets\n",
    "import numpy as np\n",
    "from schrodinger import Schrodinger\n",
    "%matplotlib notebook"
   ]
  },
  {
   "cell_type": "markdown",
   "metadata": {},
   "source": [
    "Wir laden hier neben den Standardbibliotheken auch `pySchrodinger`, das uns hilft, die Schrödinger-Gleichung zu animieren und numerisch zu lösen. Für die Animation in `jupyter` müssen wir noch die Interaktivität der notebooks mit `%matplotlib notebook` aktiviern. Bevor wir nun endlich loslegen können, müssen wir auch noch einige Hilfsfunktionen definieren. Zunächst benötigen wir eine Funktion, die unser Wellenpaket im Ortsraum ($x$) und Impulsraum ($k$) darstellt. Setzen Sie die Ausdrücke für die Normalisierung und den Exponentialterm so ein, dass sich ein Gaußsches Wellenpaket der Breite $a$, zentriert bei $x_0$, mit dem Impuls $k_0$ ergibt."
   ]
  },
  {
   "cell_type": "code",
   "execution_count": null,
   "metadata": {},
   "outputs": [],
   "source": [
    "######################################################################\n",
    "# Hilfsfunktionen für Gaußsche Wellenpakete\n",
    "def gauss_x(x, a, x0, k0):\n",
    "    \"\"\"\n",
    "    gaußförmiges Wellenpaket der Breite a, zentriert bei x0, mit dem Impuls k0\n",
    "    \"\"\"\n",
    "    # norm = ...     # modify\n",
    "    # exponent = ... # modify\n",
    "    norm = (a * np.sqrt(np.pi)) ** (-0.5)                      \n",
    "    exponent = -0.5 * ((x - x0) * 1. / a) ** 2 + 1j * x * k0   \n",
    "    return norm * np.exp(exponent)\n",
    "\n",
    "\n",
    "def gauss_k(k, a, x0, k0):\n",
    "    \"\"\"\n",
    "    analytische Fourier-Transformation von gauss_x(x), oben\n",
    "    \"\"\"\n",
    "    # norm = ...     # modify\n",
    "    # exponent = ... # modify\n",
    "    norm = (a / np.sqrt(np.pi)) ** 0.5                         \n",
    "    exponent = -0.5 * (a * (k - k0)) ** 2 - 1j * (k - k0) * x0\n",
    "    return norm * np.exp(exponent)"
   ]
  },
  {
   "cell_type": "markdown",
   "metadata": {},
   "source": [
    "Wir brauchen auch zwei Hilfsfunktion, die für uns eine rechteckige Barriere erstellt:"
   ]
  },
  {
   "cell_type": "code",
   "execution_count": null,
   "metadata": {},
   "outputs": [],
   "source": [
    "######################################################################\n",
    "# Hilfsfunktionen für Barriere\n",
    "def theta(x):\n",
    "    \"\"\"\n",
    "    theta :\n",
    "      returns 0 if x<=0, and 1 if x>0\n",
    "    \"\"\"\n",
    "    x = np.asarray(x)\n",
    "    y = np.zeros(x.shape)\n",
    "    y[x > 0] = 1.0\n",
    "    return y\n",
    "\n",
    "def square_barrier(x, width, height):\n",
    "    return height * (theta(x) - theta(x - width))"
   ]
  },
  {
   "cell_type": "markdown",
   "metadata": {},
   "source": [
    "Außerdem benötigen wir noch ein paar Hilfsfunktionen die unsere Animation erstellen:"
   ]
  },
  {
   "cell_type": "code",
   "execution_count": null,
   "metadata": {},
   "outputs": [],
   "source": [
    "######################################################################\n",
    "# Funktionen zur Animation des Plots\n",
    "def init():\n",
    "    psi_x_line.set_data([], [])\n",
    "    V_x_line.set_data([], [])\n",
    "    center_line.set_data([], [])\n",
    "\n",
    "    psi_k_line.set_data([], [])\n",
    "    title.set_text(\"\")\n",
    "    return (psi_x_line, V_x_line, center_line, psi_k_line, title)\n",
    "\n",
    "\n",
    "def animate(i):\n",
    "    S.time_step(dt, N_steps)\n",
    "    psi_x_line.set_data(S.x, 4 * abs(S.psi_x))\n",
    "    V_x_line.set_data(S.x, S.V_x)\n",
    "    center_line.set_data(2 * [x0 + S.t * p0 / m], [0, 1])\n",
    "\n",
    "    psi_k_line.set_data(S.k, abs(S.psi_k))\n",
    "    title.set_text(\"t = %.2f\" % S.t)\n",
    "    return (psi_x_line, V_x_line, center_line, psi_k_line, title)"
   ]
  },
  {
   "cell_type": "markdown",
   "metadata": {},
   "source": [
    "Als nächstes müssen wir ein paar Parameter für unsere \"Simulation\" festlegen. Der Potentialtopf ist bereits definiert und hat seine Grenzen bei $(-98,98)$. Versuche nun, eine kleine Barriere bei $x = 0$ mit der Höhe $V_0 = 1.5$ zu definieren."
   ]
  },
  {
   "cell_type": "code",
   "execution_count": null,
   "metadata": {},
   "outputs": [],
   "source": [
    "# Zeitschritte und Dauer festlegen\n",
    "dt = 0.01\n",
    "N_steps = 50\n",
    "t_max = 120\n",
    "\n",
    "frames = int(t_max / float(N_steps * dt))\n",
    "\n",
    "# Konstanten festlegen\n",
    "hbar = 1.0   # Planck-Konstante / 2*pi\n",
    "m = 2.0      # Teilchenmasse\n",
    "\n",
    "# Bereich der x-Koordinate mit gleichmäßig verteilten Werten festlegen\n",
    "N = 2 ** 11\n",
    "dx = 0.1\n",
    "\n",
    "x = dx * (np.arange(N) - 0.5 * N)\n",
    "\n",
    "# Spezifiziere Potentialtopf und Barriere\n",
    "#V0 = ... # modify\n",
    "V0 = 1.5\n",
    "L = hbar / np.sqrt(2 * m * V0)\n",
    "a = 3 * L # Breite der Barriere\n",
    "x0 = -60 * L\n",
    "#V_x = square_barrier(...,...,...) # modify\n",
    "V_x = square_barrier(x, a, V0) \n",
    "V_x[x < -98] = 1E6\n",
    "V_x[x > 98] = 1E6\n",
    "\n",
    "# Anfangsimpuls und die davon abgeleiteten Größen \n",
    "p0 = np.sqrt(2 * m * 0.2 * V0)\n",
    "dp2 = p0 * p0 * 1. / 80.\n",
    "d = hbar / np.sqrt(2 * dp2)\n",
    "\n",
    "k0 = p0 / hbar\n",
    "v0 = p0 / m\n",
    "psi_x0 = gauss_x(x, d, x0, k0)"
   ]
  },
  {
   "cell_type": "markdown",
   "metadata": {},
   "source": [
    "Bevor wir das Gaußsche Wellenpaket mit `matplotlib` animieren und visualisieren können, müssen wir zunächst `pySchrodinger` mit einigen Standardwerten instanziieren, um die Schrödinger-Gleichung für den ersten Zeitschritt lösen zu können. $k_0=-28$ ist hier der Minimalwert von $k$. Beachte, dass aufgrund der Funktionsweise der schnellen Fourier-Transformation die Impulswellenzahl im Bereich $k_0 < k < 2\\pi / \\mathrm{d}x$ definiert wird, wobei $\\mathrm{d}x = x[1]-x[0]$. Die genaue Funktionsweise der Zeitintegration in `pySchrodinger` kann [hier](https://jakevdp.github.io/blog/2012/09/05/quantum-python/) nachgelesen werden. Diejenigen, die sich mit numerischen Integrationsalgorithmen auskennen, werden dies als Beispiel für die bekannte \"Leap-Frog\"-Integrationstechnik erkennen."
   ]
  },
  {
   "cell_type": "code",
   "execution_count": null,
   "metadata": {},
   "outputs": [],
   "source": [
    "# Instanziere das Schrödinger-Objekt, das die Berechnungen durchführt\n",
    "S = Schrodinger(x=x,\n",
    "                psi_x0=psi_x0,\n",
    "                V_x=V_x,\n",
    "                hbar=hbar,\n",
    "                m=m,\n",
    "                k0=-28)"
   ]
  },
  {
   "cell_type": "code",
   "execution_count": null,
   "metadata": {},
   "outputs": [],
   "source": [
    "######################################################################\n",
    "# Plot setup\n",
    "fig = plt.figure()\n",
    "\n",
    "# Setze Begrenzungen\n",
    "xlim = (-100, 100)\n",
    "klim = (-5, 5)\n",
    "\n",
    "# Oberes Panel zeigt den Ortsraum \n",
    "ymin = 0\n",
    "ymax = V0\n",
    "ax1 = fig.add_subplot(211, xlim=xlim,\n",
    "                      ylim=(ymin - 0.2 * (ymax - ymin),\n",
    "                            ymax + 0.2 * (ymax - ymin)))\n",
    "psi_x_line, = ax1.plot([], [], c='r', label=r'$|\\psi(x)|$')\n",
    "V_x_line, = ax1.plot([], [], c='k', label=r'$V(x)$')\n",
    "center_line = ax1.axvline(0, c='k', ls=':', label=r\"$x_0 + v_0t$\")\n",
    "\n",
    "title = ax1.set_title(\"\")\n",
    "ax1.legend(prop=dict(size=12))\n",
    "ax1.set_xlabel('$x$')\n",
    "ax1.set_ylabel(r'$|\\psi(x)|$')\n",
    "\n",
    "# Unteres Panel zeigt den Impulsraum \n",
    "ymin = abs(S.psi_k).min()\n",
    "ymax = abs(S.psi_k).max()\n",
    "ax2 = fig.add_subplot(212, xlim=klim,\n",
    "                      ylim=(ymin - 0.2 * (ymax - ymin),\n",
    "                            ymax + 0.2 * (ymax - ymin)))\n",
    "psi_k_line, = ax2.plot([], [], c='r', label=r'$|\\psi(k)|$')\n",
    "\n",
    "p0_line1 = ax2.axvline(-p0 / hbar, c='k', ls=':', label=r'$\\pm p_0$')\n",
    "p0_line2 = ax2.axvline(p0 / hbar, c='k', ls=':')\n",
    "mV_line = ax2.axvline(np.sqrt(2 * V0) / hbar, c='k', ls='--',\n",
    "                      label=r'$\\sqrt{2mV_0}$')\n",
    "ax2.legend(prop=dict(size=12))\n",
    "ax2.set_xlabel('$k$')\n",
    "ax2.set_ylabel(r'$|\\psi(k)|$')\n",
    "\n",
    "V_x_line.set_data(S.x, S.V_x)"
   ]
  },
  {
   "cell_type": "markdown",
   "metadata": {},
   "source": [
    "So sieht also unser Potentialtopf aus. Schauen Sie sich die beiden Abbildungen an und diskutieren Sie, was die einzelnen Plots bedeuten. Danach starten wir die Animation!"
   ]
  },
  {
   "cell_type": "code",
   "execution_count": null,
   "metadata": {},
   "outputs": [],
   "source": [
    "# den Animator aufrufen.\n",
    "# blit=True bedeutet, dass nur die Teile neu gezeichnet werden, die sich geändert haben.\n",
    "anim = animation.FuncAnimation(fig, animate, init_func=init,\n",
    "                               frames=frames, interval=30, blit=True)\n",
    "plt.show()"
   ]
  },
  {
   "cell_type": "markdown",
   "metadata": {},
   "source": [
    "Beachte, dass die Höhe der Potentialbarriere (gekennzeichnet durch die gestrichelte Linie im unteren Feld) viel größer ist als die Energie des Teilchens. Aufgrund von Quanteneffekten ist ein kleiner Teil der Wellenfunktion dennoch in der Lage, die Barriere zu durchtunneln und die andere Seite zu erreichen."
   ]
  },
  {
   "cell_type": "markdown",
   "metadata": {},
   "source": [
    "## Aufgabe 1: Welche Einheiten wurden hier verwendet?  "
   ]
  },
  {
   "cell_type": "markdown",
   "metadata": {},
   "source": [
    "... (Lösung: atomare Einheiten) "
   ]
  },
  {
   "cell_type": "markdown",
   "metadata": {},
   "source": [
    "## Aufgabe 2: Was bedeutet eine Masse von 2 in diesem Fall? "
   ]
  },
  {
   "cell_type": "markdown",
   "metadata": {},
   "source": [
    "... (Lösung: Partikel ist doppelt so schwer wie ein Elektron) "
   ]
  },
  {
   "cell_type": "markdown",
   "metadata": {},
   "source": [
    "## Aufgabe 3: Wie wirken sich verschiedene Barrieren auf die Ausbreitung aus?"
   ]
  },
  {
   "cell_type": "markdown",
   "metadata": {},
   "source": [
    "### (a): Wie wurden unendlich hohe Barriere mit diesem Tool realisiert? Diskutieren sie den Unterschied zu einem endlichen Potential."
   ]
  },
  {
   "cell_type": "markdown",
   "metadata": {},
   "source": []
  },
  {
   "cell_type": "markdown",
   "metadata": {},
   "source": [
    "### (b) Was passiert bei langen Zeiten, wenn die Barrieren endlich sind und in der Größenordnung der Energie des Teilchens liegen?"
   ]
  },
  {
   "cell_type": "markdown",
   "metadata": {},
   "source": [
    "... (Lösung: Abnahme der Aufenthaltswahrscheinlichkeit im Topf)"
   ]
  },
  {
   "cell_type": "markdown",
   "metadata": {},
   "source": [
    "### (c): Wie lautet die Schrödingergleichung und deren Lösung für ein freies (d.h. $V(x,t)\\equiv0$) Teilchen? Lösen sie die Schrödingergleichung für ein freies Teilchen numerisch. Diskutieren sie periodische Randbedingungen."
   ]
  },
  {
   "cell_type": "markdown",
   "metadata": {},
   "source": []
  },
  {
   "cell_type": "markdown",
   "metadata": {},
   "source": [
    "### (d): Lässt sich hiermit auch ein harmonischer Potentialtopf simulieren?"
   ]
  },
  {
   "cell_type": "markdown",
   "metadata": {},
   "source": []
  },
  {
   "cell_type": "markdown",
   "metadata": {},
   "source": [
    "## Aufgabe 4: Wie wirken sich andere Wellenformen auf die Ausbreitung aus? "
   ]
  },
  {
   "cell_type": "markdown",
   "metadata": {},
   "source": [
    "### (a): Kann die Dispersion eines Gaußschen Wellenpakets hier beobachtet werden? Wenn ja, wie äußert sie sich?"
   ]
  },
  {
   "cell_type": "markdown",
   "metadata": {},
   "source": []
  },
  {
   "cell_type": "markdown",
   "metadata": {},
   "source": [
    "### (b): Eine Rechteckform?"
   ]
  },
  {
   "cell_type": "markdown",
   "metadata": {},
   "source": []
  },
  {
   "cell_type": "markdown",
   "metadata": {},
   "source": [
    "### (c): Kollision von zwei Wellenpaketen?"
   ]
  },
  {
   "cell_type": "markdown",
   "metadata": {},
   "source": []
  }
 ],
 "metadata": {
  "kernelspec": {
   "display_name": "Python 3",
   "language": "python",
   "name": "python3"
  },
  "language_info": {
   "codemirror_mode": {
    "name": "ipython",
    "version": 3
   },
   "file_extension": ".py",
   "mimetype": "text/x-python",
   "name": "python",
   "nbconvert_exporter": "python",
   "pygments_lexer": "ipython3",
   "version": "3.8.3"
  }
 },
 "nbformat": 4,
 "nbformat_minor": 4
}
