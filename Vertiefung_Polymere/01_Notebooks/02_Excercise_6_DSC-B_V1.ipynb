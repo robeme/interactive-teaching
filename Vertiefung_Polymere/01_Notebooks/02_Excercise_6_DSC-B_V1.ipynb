{
 "cells": [
  {
   "cell_type": "markdown",
   "metadata": {},
   "source": [
    "# Einleitung"
   ]
  },
  {
   "cell_type": "markdown",
   "metadata": {},
   "source": [
    "In einem neuen Forschungsprojekt geht es um die Erstellung neuer Fillamente für das Fused Deposition Modeling (FDM).<br>\n",
    "Hierbei sollen die Polymere mit weiteren Füllstoffen versehen werden, um die Druckbarkeit, den Verzug und weitere Eigenschaften zu verbessern. <br><br>\n",
    "Der Drucker für die kommenden Versuche steht im Büro und der erste Funktionstest ist abgeschlossen."
   ]
  },
  {
   "cell_type": "markdown",
   "metadata": {},
   "source": [
    "![Printer](../03_images/printer.jpg)"
   ]
  },
  {
   "cell_type": "markdown",
   "metadata": {},
   "source": [
    "Bevor mit der Entwicklung eines eigenen Fillaments begonnen werden kann, werden zunächst die im Institut verfügbaren Fillamente analysiert.<br>\n",
    "Zunächst werden die thermischen Eigenschaften mittels differential scanning calorimetry (DSC) untersucht, bevor weitere Versuche an dem Rheometer (Viskosität) und der Dynamisch-Mechanischen Thermo-Analyse (DMTA) vorgenommen werden.<br>\n",
    "Für die DSC Versuche werden kleine Stücke (15-20 mg) vom Fillament abgeschnitten und in Aluminiumtigeln platziert. "
   ]
  },
  {
   "cell_type": "markdown",
   "metadata": {},
   "source": [
    "![Tiegel](../03_images/dsc.png)"
   ]
  },
  {
   "cell_type": "markdown",
   "metadata": {},
   "source": [
    "Diese werden über das automatisierte Handling der DSC Phönix 204 F1 der Firma <b>Netzsch</b> in die Maschine eingebracht. In einem Heizzyklus wird der Wärmestrom des gefüllten Tiegels gegenüber einer Referenz gemessen.<br>"
   ]
  },
  {
   "cell_type": "markdown",
   "metadata": {},
   "source": [
    "![dsc.jpg](../03_images/sample.png)"
   ]
  },
  {
   "cell_type": "markdown",
   "metadata": {},
   "source": [
    "Für die Auswertung werden die Messdaten anschließend als \".txt\" exportiert und sollen im Folgenden ausgewertet werden."
   ]
  },
  {
   "cell_type": "markdown",
   "metadata": {},
   "source": [
    "# Import von Bibliotheken"
   ]
  },
  {
   "cell_type": "markdown",
   "metadata": {},
   "source": [
    "Um weitere Funktionalitäten in Python zu ergänzen, können bereits existierende Bibliotheken importiert werden, um deren Funktionen zu nutzen.<br>\n",
    "Da die Bibliotheken `numpy`, `pandas` und `matplotlib.pyplot` sehr oft genutzt werden, ist es üblich diese mit `np`, `pd` und `plt` ab zu kürzen."
   ]
  },
  {
   "cell_type": "code",
   "execution_count": null,
   "metadata": {},
   "outputs": [],
   "source": [
    "# Pakete zum Arbeiten mit Daten\n",
    "import pandas as pd\n",
    "import numpy as np\n",
    "\n",
    "#Paket zum plotten\n",
    "import matplotlib.pyplot as plt"
   ]
  },
  {
   "cell_type": "markdown",
   "metadata": {},
   "source": [
    "Auch das Schreiben eigener Biblioteken ist möglich, so dass bestimmte Scripte und Funktionen immer wieder verwendet werden können.<br>\n",
    "Beispielsweise werden im Folgenden alle Funktionen aus einer bereits geschriebenen Python-Datei importiert, welche in dem selben Ordner liegt."
   ]
  },
  {
   "cell_type": "code",
   "execution_count": null,
   "metadata": {},
   "outputs": [],
   "source": [
    "from hilfsfunktionen import *"
   ]
  },
  {
   "cell_type": "markdown",
   "metadata": {},
   "source": [
    "Über den Reiter <i>File > Open... > hilfsfunktionen.py</i> kann man sich diese Datei (nach der Übung ;) ) ebenfalls angucken."
   ]
  },
  {
   "cell_type": "markdown",
   "metadata": {},
   "source": [
    "# Polyethylenterephthalat - PETG"
   ]
  },
  {
   "cell_type": "markdown",
   "metadata": {},
   "source": [
    "PETG ist ein mit Glycol modifiziertes PET, welches sich durch seine deutlich verbesserten Druck-Eigenschaften auszeichnet."
   ]
  },
  {
   "cell_type": "markdown",
   "metadata": {},
   "source": [
    "Zunächst werden die Messdaten eines PETG-Fillaments ausgewertet.\n",
    "\n",
    "Die Messdaten in dem \".txt\" Format können auf unterschiedlichen Wegen eingelesen werden, wie die Beispiele zeigen.\n",
    "\n",
    "```python \n",
    "data = open(path, 'r')\n",
    "data = np.loadtxt(path, delimiter=\",\", skiprows=1)\n",
    "...\n",
    "```\n",
    "\n",
    "In dieser Übung wird das Pandas (`pd`) Modul verwendet, da hier eine gut formatierte und einfach zu manipulierende Tabelle entsteht.<br>\n",
    "```python \n",
    "data = pd.read_csv(path)\n",
    "```\n",
    "<b>Aufgabe</b>: Lies im Folgenden die Datei `'../02_Data/PETG.txt'` mit Pandas (`pd`) ein"
   ]
  },
  {
   "cell_type": "code",
   "execution_count": null,
   "metadata": {},
   "outputs": [],
   "source": [
    "# Start\n",
    "PETG_data = ...\n",
    "# Ende\n",
    "PETG_data"
   ]
  },
  {
   "cell_type": "markdown",
   "metadata": {},
   "source": [
    "Pandas ermöglicht mit einfachen Mitteln csv, xlsx, json, pickle, und viele weitere Dateiformate zu lesen.<br>\n",
    "Die Daten werden dabei in einem `pandas.DataFrame`, kurz `df`, gespeichert.<br>\n",
    "Dabei bekommen die Reihen einen Index und die erste Zeile wird als Spaltenname verwendet.<br><br>\n",
    "Einen Überblick über die Daten kann mit `df.head()`, `df.shape`, `df.tail()` und `df.describe()` erlangt werden."
   ]
  },
  {
   "cell_type": "code",
   "execution_count": null,
   "metadata": {},
   "outputs": [],
   "source": [
    "PETG_data.describe()"
   ]
  },
  {
   "cell_type": "markdown",
   "metadata": {},
   "source": [
    "Auf die einzelnen Spalten kann dabei mit `df.column_name` oder `df['column_name']` zugegriffen werden."
   ]
  },
  {
   "cell_type": "code",
   "execution_count": null,
   "metadata": {},
   "outputs": [],
   "source": [
    "#Beispiel\n",
    "PETG_data['Temp./C']"
   ]
  },
  {
   "cell_type": "markdown",
   "metadata": {},
   "source": [
    "Mit der Bibliothek `Matplotlib.pyplot` (kurz `plt`) kann der Verlauf der einzelnen Messwerte in einem Diagramm dargestellt werden. So kann beispielsweise den Verlauf der DSC-Kurve über der Zeit visualisiert werden.<br>\n",
    "<b>Aufgabe</b>: Wähle die richtigen Spalten aus, die mit dem `plot` Befehl aufgerufen werden sollen."
   ]
  },
  {
   "cell_type": "code",
   "execution_count": null,
   "metadata": {},
   "outputs": [],
   "source": [
    "# Start\n",
    "plt.plot(PETG_data['...'], PETG_data['...']) \n",
    "# Ende\n",
    "plt.xlabel('Time/min')\n",
    "plt.ylabel('DSC/(mW/mg)')"
   ]
  },
  {
   "cell_type": "markdown",
   "metadata": {},
   "source": [
    "Da ein Kollege bereits Funktionen zum Darstellen von DSC-Verläufe geschrieben hat, bei der die einzelnen Segmente zusätzlich gekennzeichnet werden, sollten diese getestet werden.<br>\n",
    "Die Funktionen heißen `plot_DSC_over_time(data)` und `plot_DSC_over_temp(data)`.\n",
    "Für das Argument `data` muss die Variable des eingelesenen pd.DataFrame eingesetzt werden.<br>\n",
    "<b>Aufgabe</b>: Teste die Funktionen."
   ]
  },
  {
   "cell_type": "code",
   "execution_count": null,
   "metadata": {},
   "outputs": [],
   "source": [
    "# Start your code here\n",
    "#plot over time\n",
    "...\n",
    "#plot over temp\n",
    "...\n",
    "# end code"
   ]
  },
  {
   "cell_type": "markdown",
   "metadata": {},
   "source": [
    "Mit diesem Überblick über den Verlauf des Wärmestroms ist es nun einfacher das zutreffende Segment für die weitere Analyse zu wählen. <br>\n",
    "Berechnen Sie nun die Glasübergangstemperatur $T_{g}$. <br>\n",
    "Benutzen Sie dazu die bereits vorgegebene Funktion: \n",
    "```python \n",
    "calc_tg(data, segment)\n",
    "```\n",
    "Das Argument `data` steht dabei ebenfalls für den DataFrame und `segment` für die Nummer des Segments an dem der $T_{g}$ berechnet wird.<br>\n",
    "<b>Aufgabe</b>: Nutzen Sie die Funktion, um den Glasübergang zu bestimmen."
   ]
  },
  {
   "cell_type": "code",
   "execution_count": null,
   "metadata": {},
   "outputs": [],
   "source": [
    "# Start your Code here\n",
    "Tg_PETG =  ...\n",
    "# end of code"
   ]
  },
  {
   "cell_type": "code",
   "execution_count": null,
   "metadata": {},
   "outputs": [],
   "source": [
    "print('Der Tg nach der Wendepunktbestimmung liegt bei {}°C.'.format(Tg_PETG))"
   ]
  },
  {
   "cell_type": "markdown",
   "metadata": {},
   "source": [
    "<b>Wie würden Sie den vorliegenden Thermoplast einordnen? Liegt ein teilkristalliner oder amorpher Thremoplast vor?"
   ]
  },
  {
   "cell_type": "markdown",
   "metadata": {},
   "source": [
    "# Polylactide - PLA"
   ]
  },
  {
   "cell_type": "markdown",
   "metadata": {},
   "source": [
    "Ein weiteres Fillamet ist Polylactide oder kurz PLA. <br>\n",
    "<b>Aufgabe</b>: Lesen Sie, wie in der Aufgabe zuvor die Datei `'../02_Data/PLA.txt'` ein."
   ]
  },
  {
   "cell_type": "code",
   "execution_count": null,
   "metadata": {},
   "outputs": [],
   "source": [
    "#start\n",
    "PLA_data = ...\n",
    "# ende\n",
    "PLA_data"
   ]
  },
  {
   "cell_type": "markdown",
   "metadata": {},
   "source": [
    "<b>Aufgabe</b>: Plotten Sie ebenfalls den Verlauf über der Zeit und über der Temperatur.<br>\n",
    "Die funktionen beginnen mit \"plot...\". Schreibe die ersten Buchstaben und drücke die \"Tabulator\" Taste um in die Autovervollständigung zu gelangen."
   ]
  },
  {
   "cell_type": "code",
   "execution_count": null,
   "metadata": {},
   "outputs": [],
   "source": [
    "# Start your code here\n",
    "#plot over time\n",
    "...\n",
    "#plot over temp\n",
    "...\n",
    "# end code"
   ]
  },
  {
   "cell_type": "markdown",
   "metadata": {},
   "source": [
    "Um die Druckeigenschaften zu analysieren, ist besonders der erste Heitzzyklus entscheident. <br>\n",
    "Um diesen jedoch zu berechnen muss der Bereich in dem die Funktion nach dem T_g sucht eingeschränkt werden.<br>\n",
    "\n",
    "Dazu kann man der Funktion `calc_tg(data, segment, [start, stop])` noch einen Bereich vorgeben, wobei dieser auf 0-1 normiert ist.<br>\n",
    "<b>Aufgabe:</b> Berechne den Glasübergang bei dem ersten Heiz-Zyklus."
   ]
  },
  {
   "cell_type": "code",
   "execution_count": null,
   "metadata": {},
   "outputs": [],
   "source": [
    "Tg_tk = ..."
   ]
  },
  {
   "cell_type": "markdown",
   "metadata": {},
   "source": [
    "Bei diesem PLA ist deutlich ein Schmelz- und Rekristallisationspeak zu erkennen.<br>\n",
    "Um die Kristallinität zu bestimmen, wird zunächst die Schmelzenthalpie berechnet. <br>\n",
    "<b>Aufgabe:</b> Verwenden Sie die Funktion `H = calc_area(data, segment, start_temp, end_temp)`, um diese zu bestimmen."
   ]
  },
  {
   "cell_type": "code",
   "execution_count": null,
   "metadata": {},
   "outputs": [],
   "source": [
    "#start\n",
    "H_M = ...\n",
    "#ende\n",
    "H_M"
   ]
  },
  {
   "cell_type": "markdown",
   "metadata": {},
   "source": [
    "Bei den Aufheitzsegmenten ist zusätzlich zu dem Schmelzpeak eine stark ausgeprägte Reristallisation des Materials zu erkennen.<br>\n",
    "<b>Aufgabe:</b> Berechnen Sie diese mit der selben Funktion und vergleichen Sie diese mit der Schmelzenthalpie."
   ]
  },
  {
   "cell_type": "code",
   "execution_count": null,
   "metadata": {},
   "outputs": [],
   "source": [
    "#start\n",
    "H_K = ...\n",
    "#ende\n",
    "H_K"
   ]
  },
  {
   "cell_type": "markdown",
   "metadata": {},
   "source": [
    "In der Literatur wird angegeben, dass die Schmelzenthalpie für 100 % kristallines PLA 93 J/g beträgt. <br>\n",
    "<b>Aufgabe:</b> Berechnen Sie den Kristallisationsgrad des Fillaments."
   ]
  },
  {
   "cell_type": "code",
   "execution_count": null,
   "metadata": {},
   "outputs": [],
   "source": [
    "H_K100 = 93\n",
    "# start\n",
    "K = ...\n",
    "# ende\n",
    "print('Die Kristallinität beträgt {:0.2}%'.format(K))"
   ]
  },
  {
   "cell_type": "markdown",
   "metadata": {},
   "source": [
    "<b>Kommen Sie bitte zurück in die Main Session und präsentiern Sie Ihre Ergebnisse!"
   ]
  }
 ],
 "metadata": {
  "hide_input": false,
  "kernelspec": {
   "display_name": "Python 3 (ipykernel)",
   "language": "python",
   "name": "python3"
  },
  "language_info": {
   "codemirror_mode": {
    "name": "ipython",
    "version": 3
   },
   "file_extension": ".py",
   "mimetype": "text/x-python",
   "name": "python",
   "nbconvert_exporter": "python",
   "pygments_lexer": "ipython3",
   "version": "3.9.13"
  },
  "latex_envs": {
   "LaTeX_envs_menu_present": true,
   "autoclose": true,
   "autocomplete": true,
   "bibliofile": "biblio.bib",
   "cite_by": "apalike",
   "current_citInitial": 1,
   "eqLabelWithNumbers": true,
   "eqNumInitial": 1,
   "hotkeys": {
    "equation": "Ctrl-E",
    "itemize": "Ctrl-I"
   },
   "labels_anchors": false,
   "latex_user_defs": false,
   "report_style_numbering": false,
   "user_envs_cfg": false
  },
  "toc": {
   "base_numbering": 1,
   "nav_menu": {},
   "number_sections": true,
   "sideBar": true,
   "skip_h1_title": false,
   "title_cell": "Table of Contents",
   "title_sidebar": "Contents",
   "toc_cell": false,
   "toc_position": {},
   "toc_section_display": true,
   "toc_window_display": false
  },
  "varInspector": {
   "cols": {
    "lenName": 16,
    "lenType": 16,
    "lenVar": 40
   },
   "kernels_config": {
    "python": {
     "delete_cmd_postfix": "",
     "delete_cmd_prefix": "del ",
     "library": "var_list.py",
     "varRefreshCmd": "print(var_dic_list())"
    },
    "r": {
     "delete_cmd_postfix": ") ",
     "delete_cmd_prefix": "rm(",
     "library": "var_list.r",
     "varRefreshCmd": "cat(var_dic_list()) "
    }
   },
   "types_to_exclude": [
    "module",
    "function",
    "builtin_function_or_method",
    "instance",
    "_Feature"
   ],
   "window_display": false
  }
 },
 "nbformat": 4,
 "nbformat_minor": 4
}
